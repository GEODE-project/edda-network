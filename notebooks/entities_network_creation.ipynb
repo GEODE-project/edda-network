{
 "cells": [
  {
   "cell_type": "markdown",
   "metadata": {},
   "source": []
  },
  {
   "cell_type": "code",
   "execution_count": 1,
   "metadata": {},
   "outputs": [
    {
     "name": "stdout",
     "output_type": "stream",
     "text": [
      "done!\n"
     ]
    }
   ],
   "source": [
    "import pandas as pd\n",
    "pd.options.mode.chained_assignment = None  # default='warn'\n",
    "\n",
    "from datetime import date\n",
    "import os\n",
    "import networkx as nx\n",
    "import re\n",
    "from tqdm import tqdm\n",
    "\n",
    "import sys\n",
    "sys.path.insert(0, '../scripts')\n",
    "\n",
    "from network import create_nodes, create_edges, save_nodes_as_csv, save_edges_as_csv\n",
    "\n",
    "\n"
   ]
  },
  {
   "cell_type": "code",
   "execution_count": 2,
   "metadata": {},
   "outputs": [
    {
     "data": {
      "text/html": [
       "<div>\n",
       "<style scoped>\n",
       "    .dataframe tbody tr th:only-of-type {\n",
       "        vertical-align: middle;\n",
       "    }\n",
       "\n",
       "    .dataframe tbody tr th {\n",
       "        vertical-align: top;\n",
       "    }\n",
       "\n",
       "    .dataframe thead th {\n",
       "        text-align: right;\n",
       "    }\n",
       "</style>\n",
       "<table border=\"1\" class=\"dataframe\">\n",
       "  <thead>\n",
       "    <tr style=\"text-align: right;\">\n",
       "      <th></th>\n",
       "      <th>entity_form</th>\n",
       "      <th>entity_tag</th>\n",
       "      <th>volume</th>\n",
       "      <th>numero</th>\n",
       "      <th>paragraph_id</th>\n",
       "    </tr>\n",
       "  </thead>\n",
       "  <tbody>\n",
       "    <tr>\n",
       "      <th>0</th>\n",
       "      <td>A</td>\n",
       "      <td>NP-Spatial</td>\n",
       "      <td>1</td>\n",
       "      <td>26</td>\n",
       "      <td>1</td>\n",
       "    </tr>\n",
       "    <tr>\n",
       "      <th>1</th>\n",
       "      <td>France</td>\n",
       "      <td>NP-Spatial</td>\n",
       "      <td>1</td>\n",
       "      <td>26</td>\n",
       "      <td>1</td>\n",
       "    </tr>\n",
       "    <tr>\n",
       "      <th>2</th>\n",
       "      <td>Fontaines</td>\n",
       "      <td>NP-Spatial</td>\n",
       "      <td>1</td>\n",
       "      <td>26</td>\n",
       "      <td>1</td>\n",
       "    </tr>\n",
       "    <tr>\n",
       "      <th>3</th>\n",
       "      <td>en</td>\n",
       "      <td>Relation</td>\n",
       "      <td>1</td>\n",
       "      <td>26</td>\n",
       "      <td>1</td>\n",
       "    </tr>\n",
       "    <tr>\n",
       "      <th>4</th>\n",
       "      <td>Sologne</td>\n",
       "      <td>NP-Spatial</td>\n",
       "      <td>1</td>\n",
       "      <td>26</td>\n",
       "      <td>1</td>\n",
       "    </tr>\n",
       "  </tbody>\n",
       "</table>\n",
       "</div>"
      ],
      "text/plain": [
       "  entity_form  entity_tag  volume  numero  paragraph_id\n",
       "0           A  NP-Spatial       1      26             1\n",
       "1      France  NP-Spatial       1      26             1\n",
       "2   Fontaines  NP-Spatial       1      26             1\n",
       "3          en    Relation       1      26             1\n",
       "4     Sologne  NP-Spatial       1      26             1"
      ]
     },
     "execution_count": 2,
     "metadata": {},
     "output_type": "execute_result"
    }
   ],
   "source": [
    "df = pd.read_csv('../data/sc_entities_from_geo_articles.tsv', sep='\\t')\n",
    "df.head()"
   ]
  },
  {
   "cell_type": "code",
   "execution_count": 3,
   "metadata": {},
   "outputs": [],
   "source": [
    "df_np = df[df['entity_tag'].str.startswith('NP')]"
   ]
  },
  {
   "cell_type": "code",
   "execution_count": 4,
   "metadata": {},
   "outputs": [
    {
     "data": {
      "text/html": [
       "<div>\n",
       "<style scoped>\n",
       "    .dataframe tbody tr th:only-of-type {\n",
       "        vertical-align: middle;\n",
       "    }\n",
       "\n",
       "    .dataframe tbody tr th {\n",
       "        vertical-align: top;\n",
       "    }\n",
       "\n",
       "    .dataframe thead th {\n",
       "        text-align: right;\n",
       "    }\n",
       "</style>\n",
       "<table border=\"1\" class=\"dataframe\">\n",
       "  <thead>\n",
       "    <tr style=\"text-align: right;\">\n",
       "      <th></th>\n",
       "      <th>entity_form</th>\n",
       "      <th>entity_tag</th>\n",
       "      <th>volume</th>\n",
       "      <th>numero</th>\n",
       "      <th>paragraph_id</th>\n",
       "      <th>entity_form_norm</th>\n",
       "    </tr>\n",
       "  </thead>\n",
       "  <tbody>\n",
       "    <tr>\n",
       "      <th>0</th>\n",
       "      <td>A</td>\n",
       "      <td>NP-Spatial</td>\n",
       "      <td>1</td>\n",
       "      <td>26</td>\n",
       "      <td>1</td>\n",
       "      <td>a</td>\n",
       "    </tr>\n",
       "    <tr>\n",
       "      <th>1</th>\n",
       "      <td>France</td>\n",
       "      <td>NP-Spatial</td>\n",
       "      <td>1</td>\n",
       "      <td>26</td>\n",
       "      <td>1</td>\n",
       "      <td>france</td>\n",
       "    </tr>\n",
       "    <tr>\n",
       "      <th>2</th>\n",
       "      <td>Fontaines</td>\n",
       "      <td>NP-Spatial</td>\n",
       "      <td>1</td>\n",
       "      <td>26</td>\n",
       "      <td>1</td>\n",
       "      <td>fontaines</td>\n",
       "    </tr>\n",
       "    <tr>\n",
       "      <th>4</th>\n",
       "      <td>Sologne</td>\n",
       "      <td>NP-Spatial</td>\n",
       "      <td>1</td>\n",
       "      <td>26</td>\n",
       "      <td>1</td>\n",
       "      <td>sologne</td>\n",
       "    </tr>\n",
       "    <tr>\n",
       "      <th>7</th>\n",
       "      <td>AA</td>\n",
       "      <td>NP-Spatial</td>\n",
       "      <td>1</td>\n",
       "      <td>27</td>\n",
       "      <td>1</td>\n",
       "      <td>aa</td>\n",
       "    </tr>\n",
       "  </tbody>\n",
       "</table>\n",
       "</div>"
      ],
      "text/plain": [
       "  entity_form  entity_tag  volume  numero  paragraph_id entity_form_norm\n",
       "0           A  NP-Spatial       1      26             1                a\n",
       "1      France  NP-Spatial       1      26             1           france\n",
       "2   Fontaines  NP-Spatial       1      26             1        fontaines\n",
       "4     Sologne  NP-Spatial       1      26             1          sologne\n",
       "7          AA  NP-Spatial       1      27             1               aa"
      ]
     },
     "execution_count": 4,
     "metadata": {},
     "output_type": "execute_result"
    }
   ],
   "source": [
    "df_np['entity_form_norm'] = df_np['entity_form'].str.lower()\n",
    "df_np.head()"
   ]
  },
  {
   "cell_type": "code",
   "execution_count": 5,
   "metadata": {},
   "outputs": [],
   "source": [
    "def remove_a_prefix(text, prefix_to_remove):\n",
    "    for prefix in prefix_to_remove:\n",
    "        if str(text).startswith(prefix):\n",
    "            return str(text)[len(prefix):]    \n",
    "    return text\n"
   ]
  },
  {
   "cell_type": "code",
   "execution_count": 6,
   "metadata": {},
   "outputs": [],
   "source": [
    "prefix_to_remove = [\"d'\", \"l'\",\"le\",\"la\",\"les\",\"ce\",\"ces\",\"cette\"]\n",
    "\n",
    "df_np['entity_form_norm'] = df_np['entity_form_norm'].apply(remove_a_prefix, prefix_to_remove=prefix_to_remove)\n"
   ]
  },
  {
   "cell_type": "code",
   "execution_count": 7,
   "metadata": {},
   "outputs": [
    {
     "data": {
      "text/html": [
       "<div>\n",
       "<style scoped>\n",
       "    .dataframe tbody tr th:only-of-type {\n",
       "        vertical-align: middle;\n",
       "    }\n",
       "\n",
       "    .dataframe tbody tr th {\n",
       "        vertical-align: top;\n",
       "    }\n",
       "\n",
       "    .dataframe thead th {\n",
       "        text-align: right;\n",
       "    }\n",
       "</style>\n",
       "<table border=\"1\" class=\"dataframe\">\n",
       "  <thead>\n",
       "    <tr style=\"text-align: right;\">\n",
       "      <th></th>\n",
       "      <th>entity_form</th>\n",
       "      <th>entity_tag</th>\n",
       "      <th>volume</th>\n",
       "      <th>numero</th>\n",
       "      <th>paragraph_id</th>\n",
       "      <th>entity_form_norm</th>\n",
       "    </tr>\n",
       "  </thead>\n",
       "  <tbody>\n",
       "    <tr>\n",
       "      <th>0</th>\n",
       "      <td>A</td>\n",
       "      <td>NP-Spatial</td>\n",
       "      <td>1</td>\n",
       "      <td>26</td>\n",
       "      <td>1</td>\n",
       "      <td>a</td>\n",
       "    </tr>\n",
       "    <tr>\n",
       "      <th>1</th>\n",
       "      <td>France</td>\n",
       "      <td>NP-Spatial</td>\n",
       "      <td>1</td>\n",
       "      <td>26</td>\n",
       "      <td>1</td>\n",
       "      <td>france</td>\n",
       "    </tr>\n",
       "    <tr>\n",
       "      <th>2</th>\n",
       "      <td>Fontaines</td>\n",
       "      <td>NP-Spatial</td>\n",
       "      <td>1</td>\n",
       "      <td>26</td>\n",
       "      <td>1</td>\n",
       "      <td>fontaines</td>\n",
       "    </tr>\n",
       "    <tr>\n",
       "      <th>4</th>\n",
       "      <td>Sologne</td>\n",
       "      <td>NP-Spatial</td>\n",
       "      <td>1</td>\n",
       "      <td>26</td>\n",
       "      <td>1</td>\n",
       "      <td>sologne</td>\n",
       "    </tr>\n",
       "    <tr>\n",
       "      <th>7</th>\n",
       "      <td>AA</td>\n",
       "      <td>NP-Spatial</td>\n",
       "      <td>1</td>\n",
       "      <td>27</td>\n",
       "      <td>1</td>\n",
       "      <td>aa</td>\n",
       "    </tr>\n",
       "    <tr>\n",
       "      <th>9</th>\n",
       "      <td>France</td>\n",
       "      <td>NP-Spatial</td>\n",
       "      <td>1</td>\n",
       "      <td>27</td>\n",
       "      <td>1</td>\n",
       "      <td>france</td>\n",
       "    </tr>\n",
       "    <tr>\n",
       "      <th>11</th>\n",
       "      <td>Gravelines</td>\n",
       "      <td>NP-Spatial</td>\n",
       "      <td>1</td>\n",
       "      <td>27</td>\n",
       "      <td>1</td>\n",
       "      <td>gravelines</td>\n",
       "    </tr>\n",
       "    <tr>\n",
       "      <th>14</th>\n",
       "      <td>Suisse</td>\n",
       "      <td>NP-Spatial</td>\n",
       "      <td>1</td>\n",
       "      <td>27</td>\n",
       "      <td>1</td>\n",
       "      <td>suisse</td>\n",
       "    </tr>\n",
       "    <tr>\n",
       "      <th>15</th>\n",
       "      <td>Westphalie</td>\n",
       "      <td>NP-Spatial</td>\n",
       "      <td>1</td>\n",
       "      <td>27</td>\n",
       "      <td>1</td>\n",
       "      <td>westphalie</td>\n",
       "    </tr>\n",
       "    <tr>\n",
       "      <th>16</th>\n",
       "      <td>la Flandre</td>\n",
       "      <td>NP-Spatial</td>\n",
       "      <td>1</td>\n",
       "      <td>27</td>\n",
       "      <td>1</td>\n",
       "      <td>flandre</td>\n",
       "    </tr>\n",
       "    <tr>\n",
       "      <th>17</th>\n",
       "      <td>la Picardie</td>\n",
       "      <td>NP-Spatial</td>\n",
       "      <td>1</td>\n",
       "      <td>27</td>\n",
       "      <td>1</td>\n",
       "      <td>picardie</td>\n",
       "    </tr>\n",
       "    <tr>\n",
       "      <th>19</th>\n",
       "      <td>le haut Boulonnois</td>\n",
       "      <td>NP-Spatial</td>\n",
       "      <td>1</td>\n",
       "      <td>27</td>\n",
       "      <td>1</td>\n",
       "      <td>haut boulonnois</td>\n",
       "    </tr>\n",
       "    <tr>\n",
       "      <th>20</th>\n",
       "      <td>le Pays bas</td>\n",
       "      <td>NP-Spatial</td>\n",
       "      <td>1</td>\n",
       "      <td>27</td>\n",
       "      <td>1</td>\n",
       "      <td>pays bas</td>\n",
       "    </tr>\n",
       "    <tr>\n",
       "      <th>21</th>\n",
       "      <td>AACH</td>\n",
       "      <td>NP-Spatial</td>\n",
       "      <td>1</td>\n",
       "      <td>29</td>\n",
       "      <td>1</td>\n",
       "      <td>aach</td>\n",
       "    </tr>\n",
       "    <tr>\n",
       "      <th>22</th>\n",
       "      <td>ACH</td>\n",
       "      <td>NP-Spatial</td>\n",
       "      <td>1</td>\n",
       "      <td>29</td>\n",
       "      <td>1</td>\n",
       "      <td>ach</td>\n",
       "    </tr>\n",
       "    <tr>\n",
       "      <th>23</th>\n",
       "      <td>Allemagne</td>\n",
       "      <td>NP-Spatial</td>\n",
       "      <td>1</td>\n",
       "      <td>29</td>\n",
       "      <td>1</td>\n",
       "      <td>allemagne</td>\n",
       "    </tr>\n",
       "    <tr>\n",
       "      <th>25</th>\n",
       "      <td>Souabe</td>\n",
       "      <td>NP-Spatial</td>\n",
       "      <td>1</td>\n",
       "      <td>29</td>\n",
       "      <td>1</td>\n",
       "      <td>souabe</td>\n",
       "    </tr>\n",
       "    <tr>\n",
       "      <th>28</th>\n",
       "      <td>l'Aach</td>\n",
       "      <td>NP-Spatial</td>\n",
       "      <td>1</td>\n",
       "      <td>29</td>\n",
       "      <td>1</td>\n",
       "      <td>aach</td>\n",
       "    </tr>\n",
       "    <tr>\n",
       "      <th>34</th>\n",
       "      <td>AAHUS</td>\n",
       "      <td>NP-Spatial</td>\n",
       "      <td>1</td>\n",
       "      <td>30</td>\n",
       "      <td>1</td>\n",
       "      <td>aahus</td>\n",
       "    </tr>\n",
       "    <tr>\n",
       "      <th>35</th>\n",
       "      <td>Allemagne</td>\n",
       "      <td>NP-Spatial</td>\n",
       "      <td>1</td>\n",
       "      <td>30</td>\n",
       "      <td>1</td>\n",
       "      <td>allemagne</td>\n",
       "    </tr>\n",
       "  </tbody>\n",
       "</table>\n",
       "</div>"
      ],
      "text/plain": [
       "           entity_form  entity_tag  volume  numero  paragraph_id  \\\n",
       "0                    A  NP-Spatial       1      26             1   \n",
       "1               France  NP-Spatial       1      26             1   \n",
       "2            Fontaines  NP-Spatial       1      26             1   \n",
       "4              Sologne  NP-Spatial       1      26             1   \n",
       "7                   AA  NP-Spatial       1      27             1   \n",
       "9               France  NP-Spatial       1      27             1   \n",
       "11          Gravelines  NP-Spatial       1      27             1   \n",
       "14              Suisse  NP-Spatial       1      27             1   \n",
       "15          Westphalie  NP-Spatial       1      27             1   \n",
       "16          la Flandre  NP-Spatial       1      27             1   \n",
       "17         la Picardie  NP-Spatial       1      27             1   \n",
       "19  le haut Boulonnois  NP-Spatial       1      27             1   \n",
       "20         le Pays bas  NP-Spatial       1      27             1   \n",
       "21                AACH  NP-Spatial       1      29             1   \n",
       "22                 ACH  NP-Spatial       1      29             1   \n",
       "23           Allemagne  NP-Spatial       1      29             1   \n",
       "25              Souabe  NP-Spatial       1      29             1   \n",
       "28              l'Aach  NP-Spatial       1      29             1   \n",
       "34               AAHUS  NP-Spatial       1      30             1   \n",
       "35           Allemagne  NP-Spatial       1      30             1   \n",
       "\n",
       "    entity_form_norm  \n",
       "0                  a  \n",
       "1             france  \n",
       "2          fontaines  \n",
       "4            sologne  \n",
       "7                 aa  \n",
       "9             france  \n",
       "11        gravelines  \n",
       "14            suisse  \n",
       "15        westphalie  \n",
       "16           flandre  \n",
       "17          picardie  \n",
       "19   haut boulonnois  \n",
       "20          pays bas  \n",
       "21              aach  \n",
       "22               ach  \n",
       "23         allemagne  \n",
       "25            souabe  \n",
       "28              aach  \n",
       "34             aahus  \n",
       "35         allemagne  "
      ]
     },
     "execution_count": 7,
     "metadata": {},
     "output_type": "execute_result"
    }
   ],
   "source": [
    "df_np.head(20)"
   ]
  },
  {
   "cell_type": "code",
   "execution_count": 13,
   "metadata": {},
   "outputs": [
    {
     "name": "stdout",
     "output_type": "stream",
     "text": [
      "Allemagne in entity_form: 804\n",
      "allemagne in entity_form_norm: 1620\n"
     ]
    }
   ],
   "source": [
    "print('Allemagne in entity_form:',len(df_np[df_np['entity_form'] == 'Allemagne']))\n",
    "print('allemagne in entity_form_norm:',len(df_np[df_np['entity_form_norm'] == 'allemagne']))"
   ]
  },
  {
   "cell_type": "code",
   "execution_count": 15,
   "metadata": {},
   "outputs": [
    {
     "data": {
      "text/plain": [
       "51694"
      ]
     },
     "execution_count": 15,
     "metadata": {},
     "output_type": "execute_result"
    }
   ],
   "source": [
    "len(df_np['entity_form_norm'].unique())"
   ]
  },
  {
   "cell_type": "code",
   "execution_count": 20,
   "metadata": {},
   "outputs": [
    {
     "name": "stdout",
     "output_type": "stream",
     "text": [
      "Create nodes\n"
     ]
    }
   ],
   "source": [
    "\n",
    "G = nx.MultiDiGraph()\n",
    "# https://networkx.org/documentation/stable/reference/classes/multidigraph.html\n",
    "\n",
    "print(\"Create nodes\")\n",
    "for form in df_np['entity_form_norm'].unique():\n",
    "    is_head = False #TODO\n",
    "    G.add_node(form, type='NP-Spatial', is_head=is_head, label=form)\n",
    "    \n",
    "    \n",
    "    \n",
    "\n"
   ]
  },
  {
   "cell_type": "code",
   "execution_count": 23,
   "metadata": {},
   "outputs": [
    {
     "data": {
      "text/plain": [
       "True"
      ]
     },
     "execution_count": 23,
     "metadata": {},
     "output_type": "execute_result"
    }
   ],
   "source": [
    "'france' in G.nodes"
   ]
  },
  {
   "cell_type": "code",
   "execution_count": 32,
   "metadata": {},
   "outputs": [
    {
     "name": "stdout",
     "output_type": "stream",
     "text": [
      "Create edges\n",
      "* article\n",
      "* paragraph\n"
     ]
    }
   ],
   "source": [
    "print(\"Create edges\")\n",
    "\n",
    "# edges attributes:\n",
    "# related_to = \"article\", \"paragraph\", \"headword\"\n",
    "# cooccurrence_freq = int\n",
    "\n",
    "# related_to = \"article\"\n",
    "related_to_values = ['article', 'paragraph']\n",
    "for related_to in related_to_values:\n",
    "    print('*',related_to)\n",
    "    if related_to == 'article':\n",
    "        df_sampled = df_np.groupby(['volume', 'numero'])\n",
    "    if related_to == 'paragraph':\n",
    "        df_sampled = df_np.groupby(['volume', 'numero', 'paragraph_id'])\n",
    "\n",
    "    for _, group in df_sampled:\n",
    "        #print(group['entity_form_norm'].values)\n",
    "        \n",
    "        # create edges between each pair of entities in the same article\n",
    "        for entity1 in group['entity_form_norm'].values:\n",
    "            for entity2 in group['entity_form_norm'].values:\n",
    "                if entity1 != entity2:\n",
    "                    if G.has_edge(entity1, entity2, related_to):\n",
    "                        G.edges[entity1, entity2, related_to]['cooccurrence_freq'] += 1\n",
    "                    else:\n",
    "                        G.add_edge(entity1, entity2, key=related_to, related_to=related_to, cooccurrence_freq=1)"
   ]
  },
  {
   "cell_type": "code",
   "execution_count": 33,
   "metadata": {},
   "outputs": [],
   "source": [
    "nx.write_gexf(G, '../data/network-NP-Spatial.gexf')\n",
    "   "
   ]
  },
  {
   "cell_type": "code",
   "execution_count": null,
   "metadata": {},
   "outputs": [],
   "source": [
    "\n",
    "nx.draw(G)"
   ]
  }
 ],
 "metadata": {
  "colab": {
   "collapsed_sections": [],
   "name": "Geoparsing.ipynb",
   "provenance": [],
   "toc_visible": true
  },
  "kernelspec": {
   "display_name": "Python 3 (ipykernel)",
   "language": "python",
   "name": "python3"
  },
  "language_info": {
   "codemirror_mode": {
    "name": "ipython",
    "version": 3
   },
   "file_extension": ".py",
   "mimetype": "text/x-python",
   "name": "python",
   "nbconvert_exporter": "python",
   "pygments_lexer": "ipython3",
   "version": "3.9.18"
  },
  "vscode": {
   "interpreter": {
    "hash": "736d210290d6fb1193e83af4d102c72889918b431f5fb98003776661da6f3cb9"
   }
  }
 },
 "nbformat": 4,
 "nbformat_minor": 2
}
