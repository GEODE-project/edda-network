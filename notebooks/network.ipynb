{
 "cells": [
  {
   "cell_type": "markdown",
   "metadata": {},
   "source": []
  },
  {
   "cell_type": "code",
   "execution_count": null,
   "metadata": {},
   "outputs": [],
   "source": [
    "from datetime import date\n",
    "import os\n",
    "import networkx as nx\n",
    "import re\n",
    "\n",
    "import sys\n",
    "import sys\n",
    "\n",
    "sys.path.insert(0, '../scripts')\n",
    "from network import create_nodes\n"
   ]
  },
  {
   "cell_type": "markdown",
   "metadata": {},
   "source": [
    "* The dataset can be downloaded from our cloud:\n",
    "> /GEODE/GEODE - Partage consortium/Corpus/EDdA/EDdA-geo-perdido-22.06.zip"
   ]
  },
  {
   "cell_type": "code",
   "execution_count": null,
   "metadata": {},
   "outputs": [],
   "source": [
    "input_path = '/Users/lmoncla/Documents/Data/Corpus/EDDA/articles_geographie/perdido-22.06/'\n",
    "\n",
    "output_path = '../output/'\n",
    "\n",
    "\n",
    "outputSuffix = 'v' + date.today().strftime(\"%Y%m%d\")\n",
    "\n",
    "print(outputSuffix)\n"
   ]
  },
  {
   "cell_type": "code",
   "execution_count": null,
   "metadata": {},
   "outputs": [],
   "source": [
    "d_headwords = {}\n",
    "headwords = []\n",
    "\n",
    "G = nx.DiGraph()\n",
    "\n",
    " # create nodes\n",
    "for doc in os.listdir(input_path):\n",
    "    file_id = doc[:-4]\n",
    "    # print('artcile ' + file_id)\n",
    "    extension = doc[-4:]\n",
    "\n",
    "    if extension == '.xml':\n",
    "        m = re.match(\"\\w+-(\\d+)\", file_id)\n",
    "        number = m.groups()[0]\n",
    "        create_nodes(input_path, doc, number)"
   ]
  },
  {
   "cell_type": "markdown",
   "metadata": {},
   "source": [
    "## pyvis"
   ]
  },
  {
   "cell_type": "code",
   "execution_count": null,
   "metadata": {},
   "outputs": [],
   "source": [
    "G = nx.read_gexf(output_path + 'network-'+outputSuffix+'.gexf')"
   ]
  },
  {
   "cell_type": "code",
   "execution_count": null,
   "metadata": {},
   "outputs": [],
   "source": [
    "# https://towardsdatascience.com/visualizing-networks-in-python-d70f4cbeb259\n",
    "from pyvis.network import Network\n",
    "\n",
    "# create viz network\n",
    "net = Network(notebook=True)\n",
    "\n",
    "# load the networkx graph\n",
    "net.from_nx(G)\n",
    "\n",
    "#show\n",
    "net.show(\"network.html\")"
   ]
  },
  {
   "cell_type": "code",
   "execution_count": null,
   "metadata": {},
   "outputs": [],
   "source": []
  },
  {
   "cell_type": "markdown",
   "metadata": {},
   "source": [
    "## graphviz\n",
    "\n",
    "https://analyticsindiamag.com/hands-on-guide-to-graphviz-python-tool-to-define-and-visualize-graphs/\n"
   ]
  },
  {
   "cell_type": "code",
   "execution_count": null,
   "metadata": {},
   "outputs": [],
   "source": [
    "from graphviz import Digraph"
   ]
  },
  {
   "cell_type": "code",
   "execution_count": null,
   "metadata": {},
   "outputs": [],
   "source": [
    "import graphviz"
   ]
  }
 ],
 "metadata": {
  "colab": {
   "collapsed_sections": [],
   "name": "Geoparsing.ipynb",
   "provenance": [],
   "toc_visible": true
  },
  "kernelspec": {
   "display_name": "Python 3 (ipykernel)",
   "language": "python",
   "name": "python3"
  },
  "language_info": {
   "codemirror_mode": {
    "name": "ipython",
    "version": 3
   },
   "file_extension": ".py",
   "mimetype": "text/x-python",
   "name": "python",
   "nbconvert_exporter": "python",
   "pygments_lexer": "ipython3",
   "version": "3.9.13"
  },
  "vscode": {
   "interpreter": {
    "hash": "736d210290d6fb1193e83af4d102c72889918b431f5fb98003776661da6f3cb9"
   }
  }
 },
 "nbformat": 4,
 "nbformat_minor": 2
}
