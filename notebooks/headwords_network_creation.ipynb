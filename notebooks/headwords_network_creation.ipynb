{
 "cells": [
  {
   "cell_type": "markdown",
   "metadata": {},
   "source": []
  },
  {
   "cell_type": "code",
   "execution_count": 1,
   "metadata": {},
   "outputs": [
    {
     "name": "stdout",
     "output_type": "stream",
     "text": [
      "done!\n"
     ]
    }
   ],
   "source": [
    "from datetime import date\n",
    "import os\n",
    "import networkx as nx\n",
    "import re\n",
    "from tqdm import tqdm\n",
    "\n",
    "import sys\n",
    "sys.path.insert(0, '../scripts')\n",
    "\n",
    "from network import create_nodes, create_edges, save_nodes_as_csv, save_edges_as_csv\n"
   ]
  },
  {
   "cell_type": "markdown",
   "metadata": {},
   "source": [
    "* The dataset can be downloaded from our cloud:\n",
    "> /GEODE/GEODE - Partage consortium/Corpus/EDdA/EDdA-geo-perdido-22.06.zip"
   ]
  },
  {
   "cell_type": "code",
   "execution_count": 2,
   "metadata": {},
   "outputs": [
    {
     "name": "stdout",
     "output_type": "stream",
     "text": [
      "v20221104\n"
     ]
    }
   ],
   "source": [
    "input_path = '/Users/lmoncla/Documents/Data/Corpus/EDDA/articles_geographie/perdido-22.06/'\n",
    "output_path = '../output/'\n",
    "outputSuffix = 'v' + date.today().strftime(\"%Y%m%d\")\n",
    "\n",
    "print(outputSuffix)\n",
    "\n",
    "geocoding = False\n"
   ]
  },
  {
   "cell_type": "code",
   "execution_count": 4,
   "metadata": {},
   "outputs": [
    {
     "name": "stdout",
     "output_type": "stream",
     "text": [
      "Create nodes\n"
     ]
    },
    {
     "name": "stderr",
     "output_type": "stream",
     "text": [
      "100%|██████████| 14452/14452 [00:08<00:00, 1696.22it/s]\n"
     ]
    },
    {
     "name": "stdout",
     "output_type": "stream",
     "text": [
      "Create edges\n"
     ]
    },
    {
     "name": "stderr",
     "output_type": "stream",
     "text": [
      "100%|██████████| 14452/14452 [01:27<00:00, 164.99it/s]\n"
     ]
    }
   ],
   "source": [
    "d_headwords = {}\n",
    "\n",
    "G = nx.DiGraph()\n",
    "\n",
    "# create nodes\n",
    "print(\"Create nodes\")\n",
    "for doc in tqdm(os.listdir(input_path)):\n",
    "    file_id = doc[:-4]\n",
    "    extension = doc[-4:]\n",
    "\n",
    "    if extension == '.xml':\n",
    "        m = re.match(\"\\w+-(\\d+)\", file_id)\n",
    "        number = m.groups()[0]\n",
    "        create_nodes(input_path, doc, number, G, d_headwords, geocoding)\n",
    "\n",
    " # create edges\n",
    "print(\"Create edges\")\n",
    "for doc in tqdm(os.listdir(input_path)):\n",
    "    file_id = doc[:-4]\n",
    "    # print('artcile ' + file_id)\n",
    "    extension = doc[-4:]\n",
    "\n",
    "    if extension == '.xml':\n",
    "        m = re.match(\"\\w+-(\\d+)\", file_id)\n",
    "        number = m.groups()[0]\n",
    "        create_edges(input_path, doc, number, G, d_headwords)"
   ]
  },
  {
   "cell_type": "code",
   "execution_count": null,
   "metadata": {},
   "outputs": [],
   "source": [
    "# save graph\n",
    "nx.write_gexf(G, output_path + 'network-'+outputSuffix+'.gexf')\n",
    "\n",
    "# save_edges_as_csv(output_path + 'edges-'+outputSuffix+'.csv', ';', G.edges)\n",
    "save_nodes_as_csv(output_path + 'nodes-' + outputSuffix + '.tsv', '\\t', G.nodes)\n"
   ]
  }
 ],
 "metadata": {
  "colab": {
   "collapsed_sections": [],
   "name": "Geoparsing.ipynb",
   "provenance": [],
   "toc_visible": true
  },
  "kernelspec": {
   "display_name": "Python 3 (ipykernel)",
   "language": "python",
   "name": "python3"
  },
  "language_info": {
   "codemirror_mode": {
    "name": "ipython",
    "version": 3
   },
   "file_extension": ".py",
   "mimetype": "text/x-python",
   "name": "python",
   "nbconvert_exporter": "python",
   "pygments_lexer": "ipython3",
   "version": "3.9.13"
  },
  "vscode": {
   "interpreter": {
    "hash": "736d210290d6fb1193e83af4d102c72889918b431f5fb98003776661da6f3cb9"
   }
  }
 },
 "nbformat": 4,
 "nbformat_minor": 2
}
